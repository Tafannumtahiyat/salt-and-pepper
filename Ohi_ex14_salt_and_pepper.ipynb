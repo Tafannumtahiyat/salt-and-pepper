{
  "nbformat": 4,
  "nbformat_minor": 0,
  "metadata": {
    "colab": {
      "name": "Ohi_ex14_salt_and_pepper.ipynb",
      "provenance": [],
      "collapsed_sections": []
    },
    "kernelspec": {
      "name": "python3",
      "display_name": "Python 3"
    },
    "accelerator": "GPU"
  },
  "cells": [
    {
      "cell_type": "code",
      "metadata": {
        "id": "oUG6ciJ6IshX",
        "colab": {
          "base_uri": "https://localhost:8080/",
          "height": 35
        },
        "outputId": "30841dc2-d78e-41cb-e2cc-85d48578bbfb"
      },
      "source": [
        "import numpy as np\n",
        "import cv2\n",
        "import pandas as pd\n",
        "import matplotlib.pyplot as plt\n",
        "from keras.models import Sequential\n",
        "from keras.layers import Dense, Conv2D, MaxPooling2D, Conv2DTranspose, UpSampling2D\n",
        "from sklearn.metrics import mean_squared_error as mse\n",
        "import pandas as pd\n",
        "import pandas as pd\n",
        "import numpy as np\n",
        "import cv2\n",
        "import matplotlib.pyplot as plt\n",
        "from sklearn.model_selection import train_test_split\n",
        "import keras\n",
        "from keras.models import Sequential\n",
        "from keras.layers import Dense\n",
        "from keras.utils import to_categorical\n",
        "from keras.optimizers import Adam, SGD  \n",
        "import keras,os\n",
        "from keras.layers import Dense, Conv2D, MaxPool2D , Flatten,Dropout\n",
        "from PIL import Image, ImageEnhance\n",
        "from keras.preprocessing.image import ImageDataGenerator\n",
        "import numpy as np"
      ],
      "execution_count": null,
      "outputs": [
        {
          "output_type": "stream",
          "text": [
            "Using TensorFlow backend.\n"
          ],
          "name": "stderr"
        }
      ]
    },
    {
      "cell_type": "code",
      "metadata": {
        "id": "OIL_5oBxMlTl",
        "colab": {
          "base_uri": "https://localhost:8080/",
          "height": 35
        },
        "outputId": "b4449c9a-bdb7-421a-bd3c-7fafc57ec3c5"
      },
      "source": [
        "from google.colab import drive\n",
        "drive.mount('/content/drive')"
      ],
      "execution_count": null,
      "outputs": [
        {
          "output_type": "stream",
          "text": [
            "Drive already mounted at /content/drive; to attempt to forcibly remount, call drive.mount(\"/content/drive\", force_remount=True).\n"
          ],
          "name": "stdout"
        }
      ]
    },
    {
      "cell_type": "code",
      "metadata": {
        "id": "dMIAFmIGQ6nv"
      },
      "source": [
        "def salt(image):\n",
        "    row,col = image.shape\n",
        "    s_vs_p = 0.5\n",
        "    amount = 0.004\n",
        "    out = np.copy(image)\n",
        "    # Salt mode\n",
        "    num_salt = np.ceil(amount * image.size * s_vs_p)\n",
        "    coords = [np.random.randint(0, i - 1, int(num_salt))\n",
        "            for i in image.shape]\n",
        "    out[coords] = 1\n",
        "\n",
        "    # Pepper mode\n",
        "    num_pepper = np.ceil(amount* image.size * (1. - s_vs_p))\n",
        "    coords = [np.random.randint(0, i - 1, int(num_pepper))\n",
        "            for i in image.shape]\n",
        "    out[coords] = 0\n",
        "    return out"
      ],
      "execution_count": null,
      "outputs": []
    },
    {
      "cell_type": "code",
      "metadata": {
        "id": "GWedBhIPVAic"
      },
      "source": [
        "def darken(img, factor):\n",
        "    im = Image.fromarray(np.uint8(img)).convert('RGB')\n",
        "    enhancer = ImageEnhance.Brightness(im)\n",
        "    im_output = enhancer.enhance(factor)\n",
        "    return cv2.cvtColor(np.asarray(im_output), cv2.COLOR_BGR2GRAY)"
      ],
      "execution_count": null,
      "outputs": []
    },
    {
      "cell_type": "code",
      "metadata": {
        "id": "ST37OECzWtjK",
        "colab": {
          "base_uri": "https://localhost:8080/",
          "height": 144
        },
        "outputId": "7c708953-ec04-46ec-b9aa-f839a0ed5792"
      },
      "source": [
        "temp_in = []\n",
        "temp_out = []\n",
        "\n",
        "#factor = [0.1]\n",
        "#for f in factor:\n",
        "for i in x:\n",
        "    noise = salt(i.reshape(64,64))\n",
        "    dark = darken(noise,0.3)\n",
        "    \n",
        "    temp_in.append(dark)\n",
        "    temp_out.append(i)\n",
        "temp_in = np.array(temp_in)\n",
        "temp_out = np.array(temp_out)\n",
        "\n",
        "print('temp in: ', temp_in.shape)\n",
        "print('temp out: ', temp_out.shape)\n"
      ],
      "execution_count": null,
      "outputs": [
        {
          "output_type": "stream",
          "text": [
            "/usr/local/lib/python3.6/dist-packages/ipykernel_launcher.py:10: FutureWarning: Using a non-tuple sequence for multidimensional indexing is deprecated; use `arr[tuple(seq)]` instead of `arr[seq]`. In the future this will be interpreted as an array index, `arr[np.array(seq)]`, which will result either in an error or a different result.\n",
            "  # Remove the CWD from sys.path while we load stuff.\n",
            "/usr/local/lib/python3.6/dist-packages/ipykernel_launcher.py:16: FutureWarning: Using a non-tuple sequence for multidimensional indexing is deprecated; use `arr[tuple(seq)]` instead of `arr[seq]`. In the future this will be interpreted as an array index, `arr[np.array(seq)]`, which will result either in an error or a different result.\n",
            "  app.launch_new_instance()\n"
          ],
          "name": "stderr"
        },
        {
          "output_type": "stream",
          "text": [
            "temp in:  (55267, 64, 64)\n",
            "temp out:  (55267, 64, 64)\n"
          ],
          "name": "stdout"
        }
      ]
    },
    {
      "cell_type": "code",
      "metadata": {
        "id": "dzZ0UYEtaFct"
      },
      "source": [
        "temp_in = temp_in.reshape(-1,64,64,1)/255.0\n",
        "x = x.reshape(-1,64,64,1)/255.0"
      ],
      "execution_count": null,
      "outputs": []
    },
    {
      "cell_type": "code",
      "metadata": {
        "id": "7vf5boY6nDJi"
      },
      "source": [
        "from keras import Sequential\n",
        "from keras.layers import Conv2D, MaxPool2D, Flatten, Dropout, Dense,ZeroPadding2D"
      ],
      "execution_count": null,
      "outputs": []
    },
    {
      "cell_type": "code",
      "metadata": {
        "id": "77XJ9dAGaXVk",
        "colab": {
          "base_uri": "https://localhost:8080/",
          "height": 515
        },
        "outputId": "5c8501c6-eec9-431b-c9a7-1f752e1a744e"
      },
      "source": [
        "model = Sequential()\n",
        "model.add(Conv2D(16, (2,2), activation='relu', input_shape=(64,64,1) ))\n",
        "model.add(MaxPooling2D((2,2)))\n",
        "model.add(Conv2D(16, (3,3), activation='relu'))\n",
        "model.add(MaxPooling2D(2,2))\n",
        "model.add(Conv2DTranspose(8,(3,3), activation='relu'))\n",
        "model.add(UpSampling2D((2,2)))\n",
        "model.add(Conv2DTranspose(16,(3,3), activation='relu'))\n",
        "model.add(UpSampling2D((2,2)))\n",
        "model.add(Conv2D(16, (3,3), activation='relu'))\n",
        "model.add(Conv2D(1, (3,3), activation='relu'))\n",
        "\n",
        "model.compile(loss='mse', optimizer='adam')\n",
        "model.summary()"
      ],
      "execution_count": null,
      "outputs": [
        {
          "output_type": "stream",
          "text": [
            "Model: \"sequential_1\"\n",
            "_________________________________________________________________\n",
            "Layer (type)                 Output Shape              Param #   \n",
            "=================================================================\n",
            "conv2d_1 (Conv2D)            (None, 63, 63, 16)        80        \n",
            "_________________________________________________________________\n",
            "max_pooling2d_1 (MaxPooling2 (None, 31, 31, 16)        0         \n",
            "_________________________________________________________________\n",
            "conv2d_2 (Conv2D)            (None, 29, 29, 16)        2320      \n",
            "_________________________________________________________________\n",
            "max_pooling2d_2 (MaxPooling2 (None, 14, 14, 16)        0         \n",
            "_________________________________________________________________\n",
            "conv2d_transpose_1 (Conv2DTr (None, 16, 16, 8)         1160      \n",
            "_________________________________________________________________\n",
            "up_sampling2d_1 (UpSampling2 (None, 32, 32, 8)         0         \n",
            "_________________________________________________________________\n",
            "conv2d_transpose_2 (Conv2DTr (None, 34, 34, 16)        1168      \n",
            "_________________________________________________________________\n",
            "up_sampling2d_2 (UpSampling2 (None, 68, 68, 16)        0         \n",
            "_________________________________________________________________\n",
            "conv2d_3 (Conv2D)            (None, 66, 66, 16)        2320      \n",
            "_________________________________________________________________\n",
            "conv2d_4 (Conv2D)            (None, 64, 64, 1)         145       \n",
            "=================================================================\n",
            "Total params: 7,193\n",
            "Trainable params: 7,193\n",
            "Non-trainable params: 0\n",
            "_________________________________________________________________\n"
          ],
          "name": "stdout"
        }
      ]
    },
    {
      "cell_type": "code",
      "metadata": {
        "id": "DEB43EXUm9PK",
        "colab": {
          "base_uri": "https://localhost:8080/",
          "height": 390
        },
        "outputId": "e4402b40-f5f1-4c7f-e0ee-c94f4aec79cb"
      },
      "source": [
        "history = model.fit(temp_in, x, batch_size=100, validation_split=0.1, epochs=10)"
      ],
      "execution_count": null,
      "outputs": [
        {
          "output_type": "stream",
          "text": [
            "Train on 49740 samples, validate on 5527 samples\n",
            "Epoch 1/10\n",
            "49740/49740 [==============================] - 14s 289us/step - loss: 0.0314 - val_loss: 0.0055\n",
            "Epoch 2/10\n",
            "49740/49740 [==============================] - 8s 157us/step - loss: 0.0033 - val_loss: 0.0041\n",
            "Epoch 3/10\n",
            "49740/49740 [==============================] - 8s 157us/step - loss: 0.0027 - val_loss: 0.0036\n",
            "Epoch 4/10\n",
            "49740/49740 [==============================] - 8s 157us/step - loss: 0.0023 - val_loss: 0.0029\n",
            "Epoch 5/10\n",
            "49740/49740 [==============================] - 8s 158us/step - loss: 0.0018 - val_loss: 0.0024\n",
            "Epoch 6/10\n",
            "49740/49740 [==============================] - 8s 159us/step - loss: 0.0015 - val_loss: 0.0020\n",
            "Epoch 7/10\n",
            "49740/49740 [==============================] - 8s 159us/step - loss: 0.0013 - val_loss: 0.0018\n",
            "Epoch 8/10\n",
            "49740/49740 [==============================] - 8s 158us/step - loss: 0.0012 - val_loss: 0.0016\n",
            "Epoch 9/10\n",
            "49740/49740 [==============================] - 8s 158us/step - loss: 0.0011 - val_loss: 0.0015\n",
            "Epoch 10/10\n",
            "49740/49740 [==============================] - 8s 158us/step - loss: 0.0010 - val_loss: 0.0014\n"
          ],
          "name": "stdout"
        }
      ]
    },
    {
      "cell_type": "code",
      "metadata": {
        "id": "Y9_y6ZEjrkbj"
      },
      "source": [
        "pred = model.predict(temp_in[67].reshape(1,64,64,1))"
      ],
      "execution_count": null,
      "outputs": []
    },
    {
      "cell_type": "code",
      "metadata": {
        "id": "XM1ev65ow7WD"
      },
      "source": [
        "img1=cv2.imread('test3.jpg',0)\n",
        "img = cv2.resize(img1, (64,64))\n",
        "pred = model.predict(img.reshape(1,64,64,1))\n"
      ],
      "execution_count": null,
      "outputs": []
    },
    {
      "cell_type": "code",
      "metadata": {
        "id": "uDpUh1fwz_FC",
        "colab": {
          "base_uri": "https://localhost:8080/",
          "height": 234
        },
        "outputId": "fce06eb7-4011-49bf-e85c-dad573d9eeda"
      },
      "source": [
        "plt.subplot(121)\n",
        "plt.imshow(img.reshape(64,64), cmap='gray')\n",
        "plt.title('original')\n",
        "\n",
        "plt.subplot(122)\n",
        "plt.imshow(pred.reshape(64,64), cmap='gray')\n",
        "plt.title('generated')"
      ],
      "execution_count": null,
      "outputs": [
        {
          "output_type": "execute_result",
          "data": {
            "text/plain": [
              "Text(0.5, 1.0, 'generated')"
            ]
          },
          "metadata": {
            "tags": []
          },
          "execution_count": 28
        },
        {
          "output_type": "display_data",
          "data": {
            "image/png": "[encoded data removed]",
            "text/plain": [
              "<Figure size 432x288 with 2 Axes>"
            ]
          },
          "metadata": {
            "tags": [],
            "needs_background": "light"
          }
        }
      ]
    }
  ]
}